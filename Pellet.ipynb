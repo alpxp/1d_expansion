{
 "cells": [
  {
   "cell_type": "code",
   "execution_count": 1,
   "metadata": {},
   "outputs": [
    {
     "name": "stdout",
     "output_type": "stream",
     "text": [
      "<class 'fipy.solvers.petsc.linearGMRESSolver.LinearGMRESSolver'>\n"
     ]
    }
   ],
   "source": [
    "import numpy as np\n",
    "import fipy as fp\n",
    "import scipy.constants as sc\n",
    "\n",
    "import time\n",
    "\n",
    "import matplotlib.pyplot as plt\n",
    "#plt.rcParams[\"animation.html\"] = \"jshtml\"\n",
    "#from matplotlib.animation import FuncAnimation\n",
    "#from IPython.display import HTML\n",
    "\n",
    "def update_progress(process,progress):\n",
    "    import sys\n",
    "    barLength = 100 # Modify this to change the length of the progress bar\n",
    "    status = \"\"\n",
    "    if isinstance(progress, int):\n",
    "        progress = float(progress)\n",
    "    if not isinstance(progress, float):\n",
    "        progress = 0\n",
    "        status = \"error: progress var must be float\\r\\n\"\n",
    "    if progress < 0:\n",
    "        progress = 0\n",
    "        status = \"Halt...\\r\\n\"\n",
    "    if progress >= 1:\n",
    "        progress = 1\n",
    "        status = \"Done...\\r\\n\"\n",
    "    block = int(round(barLength*progress))\n",
    "    text = \"\\r\"+process+\": [{0}] {1:.0f}% {2}\".format( \"#\"*block + \"-\"*(barLength-block), progress*100, status)\n",
    "    sys.stdout.write(text)\n",
    "    sys.stdout.flush()\n",
    "    \n",
    "print(fp.DefaultSolver)"
   ]
  },
  {
   "cell_type": "code",
   "execution_count": 2,
   "metadata": {},
   "outputs": [],
   "source": [
    "Te = 4000 #eV\n",
    "n0 = 1e8 #line integrated density\n",
    "n_hot = 5e19 #ambient density [m^-3]\n",
    "M = 2. * sc.m_p #atomic mass\n",
    "\n",
    "LL = 12\n",
    "#Braginskii Eq. 2.5e\n",
    "tee = 12. * np.pi**1.5 /2**0.5 * sc.m_e**0.5 * sc.epsilon_0**2 * (sc.e * Te)**1.5 / (sc.e**4 * n_hot * LL)\n",
    "SQ  = 3. * n0 * Te * 1.6e-19 / tee \n",
    "tau = 1./ (3. * n0) * SQ # Dnestrovskiy Eq. 65\n",
    "\n",
    "#Analytical solution\n",
    "n_ana   = lambda x,t: np.sqrt(3.*M/(8.*t**3*np.pi*tau))*np.exp(-3.*M*x**2/(8.*t**3*tau))\n",
    "#T = tau * t\n",
    "#v  = 1.5 * x / t"
   ]
  },
  {
   "cell_type": "markdown",
   "metadata": {},
   "source": [
    "Our mesh will span $[-L_x/2;L_x/2]$"
   ]
  },
  {
   "cell_type": "code",
   "execution_count": 3,
   "metadata": {},
   "outputs": [],
   "source": [
    "Lx = 400.; dt = 0.5e-6; steps = 500"
   ]
  },
  {
   "cell_type": "code",
   "execution_count": 4,
   "metadata": {},
   "outputs": [],
   "source": [
    "#base = 30; N =200\n",
    "#nonUniform_x = Lx/(base-1.)*(np.logspace(0.,1.,N+1,base=base,endpoint=True)-1.)\n",
    "#mesh  = fp.Grid1D(dx=np.diff(nonUniform_x))\n",
    "\n",
    "mesh = fp.Grid1D(nx=1000, Lx=Lx) - 0 * Lx/2.; \n",
    "x = mesh.x"
   ]
  },
  {
   "cell_type": "markdown",
   "metadata": {},
   "source": [
    "''Shallow water'' equations for expanding plasma take the form\n",
    "\\begin{equation}\n",
    "\\frac{\\partial n}{\\partial t} + \\frac{1}{\\partial x} (nv) = 0,\n",
    "\\end{equation}\n",
    "\\begin{equation}\n",
    "\\frac{\\partial v}{\\partial t} + v\\frac{\\partial v}{\\partial x} = - \\frac{T(t)}{nM}\\frac{\\partial n}{\\partial x}\n",
    "\\end{equation}"
   ]
  },
  {
   "cell_type": "code",
   "execution_count": 5,
   "metadata": {},
   "outputs": [],
   "source": [
    "n = fp.CellVariable(mesh=mesh, hasOld = True)\n",
    "v = fp.CellVariable(mesh=mesh, hasOld = True)\n",
    "v_face = fp.FaceVariable(mesh=mesh, rank=0, value=0.)\n",
    "\n",
    "T = fp.Variable(value = 0.)"
   ]
  },
  {
   "cell_type": "code",
   "execution_count": 6,
   "metadata": {},
   "outputs": [],
   "source": [
    "#cont_eq = (fp.TransientTerm(var=n) + fp.ConvectionTerm(coeff=v.faceValue*[[1.0]], var=n) == 0)\n",
    "#moti_eq = (fp.TransientTerm(var=v) + fp.ConvectionTerm(coeff=v.faceValue*[[0.5]], var=v) + T / M * n.grad[0]/n == fp.DiffusionTerm(coeff=1.e6,var=v)) # T * (fp.numerix.log(n.faceValue)).divergence #\n",
    "\n",
    "#cont_eq = (fp.TransientTerm(var=n) + fp.ConvectionTerm(coeff=v_face*[[1.0]], var=n) == 0)\n",
    "#moti_eq = (fp.TransientTerm(var=v) + fp.ConvectionTerm(coeff=v_face*[[0.5]], var=v) + T / M * n.grad[0]/n == fp.DiffusionTerm(coeff=1.e6,var=v)) # T * (fp.numerix.log(n.faceValue)).divergence #\n",
    "\n",
    "cont_eq = (fp.TransientTerm(var=n) + fp.ConvectionTerm(coeff=v_face*[[1.]], var=n) == 0)\n",
    "moti_eq = (fp.TransientTerm(var=v) + fp.ConvectionTerm(coeff=v_face*[[1.]], var=v) - \\\n",
    "                    fp.ImplicitSourceTerm(coeff=v_face.divergence, var=v) + T / M * n.grad[0]/n == fp.DiffusionTerm(coeff=1.e6,var=v))\n",
    "\n",
    "eqn = cont_eq & moti_eq"
   ]
  },
  {
   "cell_type": "markdown",
   "metadata": {},
   "source": [
    "Rough boundary conditions for $v$ and $n$ on the right."
   ]
  },
  {
   "cell_type": "code",
   "execution_count": 7,
   "metadata": {},
   "outputs": [],
   "source": [
    "n.faceGrad.constrain(0.  , where=mesh.facesLeft)  #correct\n",
    "n.faceGrad.constrain(0.  , where=mesh.facesRight) #arbitrary \n",
    "v.constrain(0.           , where=mesh.facesLeft)  #correct\n",
    "v.faceGrad.constrain(0.  , where=mesh.facesRight) #arbitrary \n",
    "\n",
    "#Initial conditions == analytical around finite density\n",
    "t = 10.e-6\n",
    "T.setValue(tau*t)\n",
    "v.setValue(1.5*x/t, where= x < 10.)\n",
    "v.setValue(0., where= x >= 10.)\n",
    "n.setValue(n0*n_ana(x,t)+1e-15*n0/300)"
   ]
  },
  {
   "cell_type": "markdown",
   "metadata": {},
   "source": [
    "Check convergence"
   ]
  },
  {
   "cell_type": "code",
   "execution_count": 8,
   "metadata": {},
   "outputs": [
    {
     "name": "stdout",
     "output_type": "stream",
     "text": [
      "6188891535743.795\n",
      "2.945613471800911e+18\n",
      "4.479535579484638e+23\n",
      "4.493617561019341e+22\n",
      "1.0926114997987734e+22\n",
      "2.6101651991604704e+21\n",
      "6.3433172575606e+20\n",
      "1.557947349073216e+20\n",
      "3.822709259039078e+19\n",
      "9.3989248208487e+18\n",
      "2.305900214123529e+18\n",
      "5.612070827616478e+17\n",
      "1.3471000795458498e+17\n",
      "3.1673003724301332e+16\n",
      "7404961891972778.0\n",
      "1804493661598282.2\n",
      "454029500619669.8\n",
      "115181525629723.89\n",
      "29244019658586.12\n",
      "6891873137491.468\n",
      "1216826843027.6611\n",
      "487031370988.6832\n",
      "450870278727.06464\n",
      "342068069441.8376\n",
      "114776606072.20105\n",
      "173491166168.29446\n",
      "68185862514.93431\n",
      "96390732769.00186\n",
      "32970059233.913746\n",
      "59075440802.921196\n",
      "18544272537.058613\n",
      "33974079007.941\n",
      "10975715093.802519\n",
      "20339508984.982826\n",
      "6326305756.408315\n",
      "11714800818.758322\n",
      "3756028003.838876\n",
      "6864207513.677132\n",
      "2197163294.2535133\n",
      "3971136310.2591634\n",
      "1299263551.323517\n",
      "2311657162.4683156\n",
      "764252159.0824708\n",
      "1340123474.1037154\n",
      "451159815.2799031\n",
      "778529258.4939299\n",
      "265826209.45168963\n",
      "451643786.9495594\n",
      "156795516.97767588\n",
      "262188442.43688115\n",
      "92413852.91909589\n",
      "152128439.18404034\n",
      "54480674.581204176\n",
      "88286633.83028062\n",
      "32105678.22230987\n",
      "51226018.56567497\n",
      "18919139.500352442\n",
      "29723702.029231265\n",
      "11145826.19650641\n",
      "17245327.97415274\n",
      "6565448.723071438\n",
      "10005353.837815005\n",
      "3866599.4143496775\n",
      "5804504.937045605\n",
      "2276797.0880771717\n",
      "3367301.5594638246\n",
      "1340421.4151246992\n",
      "1953330.764352148\n",
      "789018.6486195371\n",
      "1133054.2051285587\n",
      "464365.8338244098\n",
      "657210.0289319128\n",
      "273252.2067188667\n",
      "381186.596479136\n",
      "160767.36991860933\n",
      "221080.30585875548\n",
      "94572.53143895179\n",
      "128215.89256904215\n",
      "55624.49049494311\n",
      "74355.41711918484\n",
      "32711.66019552794\n",
      "43118.37155696443\n",
      "19234.275890100424\n",
      "25002.925457755016\n",
      "11308.035657283195\n",
      "14497.661562166046\n",
      "6647.1852939364735\n",
      "8405.887164936057\n",
      "3906.8697477871697\n",
      "4873.573095664956\n",
      "2295.9464348367537\n",
      "2825.462636804642\n",
      "1349.079028990978\n",
      "1637.9839880760887\n",
      "792.6052464065117\n",
      "949.5275548883478\n",
      "465.6090169483002\n",
      "550.4058619656377\n",
      "273.48410447684034\n",
      "319.03357818093633\n"
     ]
    }
   ],
   "source": [
    "n.updateOld()\n",
    "v.updateOld()\n",
    "\n",
    "res = 1e100\n",
    "for i in range(100):\n",
    "    v_face[:] = v.arithmeticFaceValue\n",
    "    v_face[..., mesh.facesLeft.value] = 0.\n",
    "    res = eqn.sweep(dt=dt)\n",
    "    print(res)\n",
    "t += dt"
   ]
  },
  {
   "cell_type": "code",
   "execution_count": 9,
   "metadata": {},
   "outputs": [
    {
     "data": {
      "text/plain": [
       "<matplotlib.legend.Legend at 0x7fb2534d1f40>"
      ]
     },
     "execution_count": 9,
     "metadata": {},
     "output_type": "execute_result"
    },
    {
     "data": {
      "image/png": "[encoded data removed]",
      "text/plain": [
       "<Figure size 864x288 with 2 Axes>"
      ]
     },
     "metadata": {
      "needs_background": "light"
     },
     "output_type": "display_data"
    }
   ],
   "source": [
    "fig = plt.figure(figsize=(12,4))\n",
    "ax1 =  fig.add_subplot(121)\n",
    "ax2 =  fig.add_subplot(122)\n",
    "\n",
    "x_plot = x.value\n",
    "p_n,      = ax1.plot(x_plot, n.value, '-', label = '$n_i$')\n",
    "p_v,      = ax2.plot(x_plot, v.value, '-',label = '$v_i$')\n",
    "a_n,      = ax1.plot(x_plot, n0*n_ana(x.value,t), '-', label = '$n_i^{an}$')\n",
    "a_v,      = ax2.plot(x_plot, 1.5*x.value/t, '-',label = '$v_i^{an}$')\n",
    "\n",
    "ax1.grid()\n",
    "ax2.grid()\n",
    "ax1.legend(framealpha=0.5)\n",
    "ax2.legend(framealpha=0.5)"
   ]
  },
  {
   "cell_type": "code",
   "execution_count": 10,
   "metadata": {},
   "outputs": [],
   "source": [
    "t_list = []; n_list = []; u_list = []; n_sweeps = []\n",
    "\n",
    "def update(i):\n",
    "    update_progress('Progress',1.*i/steps)\n",
    "    global t,tau,T\n",
    "    n.updateOld()\n",
    "    v.updateOld()\n",
    "    T.setValue(t*tau)\n",
    "    res = 1e100\n",
    "    isweep = 0\n",
    "    while res > 1.:\n",
    "        isweep+=1\n",
    "        v_face[:] = v.arithmeticFaceValue\n",
    "        v_face[..., mesh.facesLeft.value] = 0.\n",
    "        res = eqn.sweep(dt=dt)    \n",
    "        if isweep > 100:\n",
    "            print(i,'No converge',res)\n",
    "            break\n",
    "    n_sweeps.append(isweep)\n",
    "    #print(isweep, res)\n",
    "    t_list.append(t)\n",
    "    n_list.append(n.value.copy())\n",
    "    u_list.append(v.value.copy())\n",
    "    t = t + dt"
   ]
  },
  {
   "cell_type": "code",
   "execution_count": 11,
   "metadata": {},
   "outputs": [
    {
     "name": "stdout",
     "output_type": "stream",
     "text": [
      "Progress: [####################################################################################################] 100% Computation walltime  320.7130470275879\n"
     ]
    }
   ],
   "source": [
    "start = time.time()\n",
    "for i in range(steps):\n",
    "    update(i)\n",
    "print('Computation walltime ', time.time()-start)"
   ]
  },
  {
   "cell_type": "code",
   "execution_count": 12,
   "metadata": {},
   "outputs": [
    {
     "data": {
      "text/plain": [
       "[<matplotlib.lines.Line2D at 0x7fb2540241c0>]"
      ]
     },
     "execution_count": 12,
     "metadata": {},
     "output_type": "execute_result"
    },
    {
     "data": {
      "image/png": "[encoded data removed]",
      "text/plain": [
       "<Figure size 432x288 with 1 Axes>"
      ]
     },
     "metadata": {
      "needs_background": "light"
     },
     "output_type": "display_data"
    }
   ],
   "source": [
    "plt.plot(n_sweeps)"
   ]
  },
  {
   "cell_type": "code",
   "execution_count": 13,
   "metadata": {},
   "outputs": [],
   "source": [
    "#import pickle\n",
    "#pickle.dump((t_list,n_list,u_list),open( \"save.p\", \"wb\" ))"
   ]
  },
  {
   "cell_type": "code",
   "execution_count": 14,
   "metadata": {},
   "outputs": [],
   "source": [
    "#import pickle\n",
    "#t_list,n_list,u_list = pickle.load(open( \"save.p\", \"rb\" ))"
   ]
  },
  {
   "cell_type": "code",
   "execution_count": 15,
   "metadata": {},
   "outputs": [],
   "source": [
    "def plot_func(i):   \n",
    "    p_n.set_ydata(n_list[i])\n",
    "    p_v.set_ydata(u_list[i])\n",
    "    a_n.set_ydata(n0*n_ana(x.value,t_list[i]))\n",
    "    a_v.set_ydata(1.5*x.value/t_list[i])\n",
    "    ax1.set_ylim((0,max(n_list[i])*1.2))\n",
    "    ax2.set_ylim((0,max(1.5*x.value/t_list[i])*1.2))"
   ]
  },
  {
   "cell_type": "code",
   "execution_count": 18,
   "metadata": {},
   "outputs": [],
   "source": [
    "#animation2 = FuncAnimation(fig, plot_func, frames=steps, repeat=False)\n",
    "#animation2"
   ]
  },
  {
   "cell_type": "code",
   "execution_count": 18,
   "metadata": {
    "tags": []
   },
   "outputs": [
    {
     "data": {
      "image/png": "[encoded data removed]",
      "text/plain": [
       "<Figure size 864x288 with 2 Axes>"
      ]
     },
     "execution_count": 18,
     "metadata": {},
     "output_type": "execute_result"
    }
   ],
   "source": [
    "plot_func(steps-100)\n",
    "fig"
   ]
  },
  {
   "cell_type": "code",
   "execution_count": null,
   "metadata": {},
   "outputs": [],
   "source": []
  }
 ],
 "metadata": {
  "kernelspec": {
   "display_name": "Python 3",
   "language": "python",
   "name": "python3"
  },
  "language_info": {
   "codemirror_mode": {
    "name": "ipython",
    "version": 3
   },
   "file_extension": ".py",
   "mimetype": "text/x-python",
   "name": "python",
   "nbconvert_exporter": "python",
   "pygments_lexer": "ipython3",
   "version": "3.8.8"
  },
  "latex_envs": {
   "LaTeX_envs_menu_present": true,
   "autoclose": false,
   "autocomplete": true,
   "bibliofile": "biblio.bib",
   "cite_by": "apalike",
   "current_citInitial": 1,
   "eqLabelWithNumbers": true,
   "eqNumInitial": 1,
   "hotkeys": {
    "equation": "Ctrl-E",
    "itemize": "Ctrl-I"
   },
   "labels_anchors": false,
   "latex_user_defs": false,
   "report_style_numbering": true,
   "user_envs_cfg": false
  },
  "toc": {
   "base_numbering": 1,
   "nav_menu": {},
   "number_sections": true,
   "sideBar": true,
   "skip_h1_title": false,
   "title_cell": "Table of Contents",
   "title_sidebar": "Contents",
   "toc_cell": false,
   "toc_position": {},
   "toc_section_display": true,
   "toc_window_display": false
  }
 },
 "nbformat": 4,
 "nbformat_minor": 4
}
