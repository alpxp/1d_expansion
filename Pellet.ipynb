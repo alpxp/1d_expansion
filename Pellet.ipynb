{
 "cells": [
  {
   "cell_type": "code",
   "execution_count": 1,
   "metadata": {},
   "outputs": [
    {
     "name": "stdout",
     "output_type": "stream",
     "text": [
      "<class 'fipy.solvers.petsc.linearGMRESSolver.LinearGMRESSolver'>\n"
     ]
    }
   ],
   "source": [
    "import numpy as np\n",
    "import fipy as fp\n",
    "\n",
    "import matplotlib.pyplot as plt\n",
    "plt.rcParams[\"animation.html\"] = \"jshtml\"\n",
    "from matplotlib.animation import FuncAnimation\n",
    "#from matplotlib import animation, rc\n",
    "from IPython.display import HTML\n",
    "\n",
    "def update_progress(process,progress):\n",
    "    import sys\n",
    "    barLength = 100 # Modify this to change the length of the progress bar\n",
    "    status = \"\"\n",
    "    if isinstance(progress, int):\n",
    "        progress = float(progress)\n",
    "    if not isinstance(progress, float):\n",
    "        progress = 0\n",
    "        status = \"error: progress var must be float\\r\\n\"\n",
    "    if progress < 0:\n",
    "        progress = 0\n",
    "        status = \"Halt...\\r\\n\"\n",
    "    if progress >= 1:\n",
    "        progress = 1\n",
    "        status = \"Done...\\r\\n\"\n",
    "    block = int(round(barLength*progress))\n",
    "    text = \"\\r\"+process+\": [{0}] {1:.0f}% {2}\".format( \"#\"*block + \"-\"*(barLength-block), progress*100, status)\n",
    "    sys.stdout.write(text)\n",
    "    sys.stdout.flush()\n",
    "    \n",
    "print(fp.DefaultSolver)"
   ]
  },
  {
   "cell_type": "code",
   "execution_count": 113,
   "metadata": {},
   "outputs": [],
   "source": [
    "Te = 4000\n",
    "n0 = 1e8\n",
    "n_hot = 5e19\n",
    "import scipy.constants as sc\n",
    "LL = 12\n",
    "#Braginskiy Eq. 2.5e\n",
    "tee = 12. * np.pi**1.5 /2**0.5 * sc.m_e**0.5 * sc.epsilon_0**2 * (sc.e * Te)**1.5 / (sc.e**4 * n_hot * LL)\n",
    "\n",
    "SQ  = 3. * n0 * Te * 1.6e-19 / tee \n",
    "tau = 1./ (3. * n0) * SQ # Dnestrovskiy Eq. 65\n",
    "\n",
    "n_ana   = lambda x,t: n0*np.sqrt(3.*sc.m_p/(8.*t**3*np.pi*tau))*np.exp(-3.*sc.m_p*x**2/(8.*t**3*tau))"
   ]
  },
  {
   "cell_type": "markdown",
   "metadata": {},
   "source": [
    "Setup for the shallow water equations solution. $L_x$ is in the Debye lengths, $dt$ is in the reciprocal ion plasma friquency"
   ]
  },
  {
   "cell_type": "code",
   "execution_count": 161,
   "metadata": {},
   "outputs": [],
   "source": [
    "Lx = 40.; dt = 0.1e-6; steps = 220"
   ]
  },
  {
   "cell_type": "markdown",
   "metadata": {},
   "source": [
    "Our mesh will span $[-L_x/2;L_x/2]$"
   ]
  },
  {
   "cell_type": "code",
   "execution_count": 162,
   "metadata": {},
   "outputs": [],
   "source": [
    "t = 10.e-6"
   ]
  },
  {
   "cell_type": "code",
   "execution_count": 163,
   "metadata": {},
   "outputs": [],
   "source": [
    "#base = 20; N =100\n",
    "#nonUniform_x = Lx/(base-1.)*(np.logspace(0.,1.,N+1,base=base,endpoint=True)-1.)\n",
    "#mesh  = fp.Grid1D(dx=np.diff(nonUniform_x))\n",
    "\n",
    "mesh = fp.Grid1D(nx=1000, Lx=Lx) - 0 * Lx/2.; \n",
    "x = mesh.x"
   ]
  },
  {
   "cell_type": "markdown",
   "metadata": {},
   "source": [
    "Shallow water equations for expanding plasma take the form\n",
    "\\begin{equation}\n",
    "\\frac{\\partial n}{dt} + \\frac{1}{dx} (nv) = 0,\n",
    "\\end{equation}\n",
    "\\begin{equation}\n",
    "\\frac{\\partial v}{dt} + v\\frac{\\partial v}{dx} = - T(t)\\frac{\\partial \\ln(n)}{dx}\n",
    "\\end{equation}"
   ]
  },
  {
   "cell_type": "code",
   "execution_count": 193,
   "metadata": {},
   "outputs": [],
   "source": [
    "n = fp.CellVariable(mesh=mesh, hasOld = True)\n",
    "v = fp.CellVariable(mesh=mesh, hasOld = True)\n",
    "v_face = fp.FaceVariable(mesh=mesh, rank=0, value=0.)\n",
    "\n",
    "T = fp.Variable(value = tau*t)"
   ]
  },
  {
   "cell_type": "code",
   "execution_count": 194,
   "metadata": {},
   "outputs": [],
   "source": [
    "#cont_eq = (fp.TransientTerm(var=n) + fp.ConvectionTerm(coeff=v_face*[[1.0]], var=n) == 0)\n",
    "#moti_eq = (fp.TransientTerm(var=v) + fp.ConvectionTerm(coeff=v_face*[[0.5]], var=v) + T / sc.m_p * n.grad[0]/n == 0) # T * (fp.numerix.log(n.faceValue)).divergence #\n",
    "\n",
    "cont_eq = (fp.TransientTerm(var=n) + fp.ConvectionTerm(coeff=v_face*[[1.]], var=n) == 0)\n",
    "moti_eq = (fp.TransientTerm(var=v) + fp.ConvectionTerm(coeff=v_face*[[1.]], var=v) - \\\n",
    "                    fp.ImplicitSourceTerm(coeff=v_face.divergence, var=v) + T / sc.m_p * n.grad[0]/n == 0)\n",
    "\n",
    "eqn = cont_eq & moti_eq"
   ]
  },
  {
   "cell_type": "markdown",
   "metadata": {},
   "source": [
    "Rougth boundary condition for $v$."
   ]
  },
  {
   "cell_type": "markdown",
   "metadata": {},
   "source": [
    "Next test is gaussian pellet. Now we start from $T=0$ in Eq. (2), so it needs more time to expand."
   ]
  },
  {
   "cell_type": "code",
   "execution_count": 195,
   "metadata": {},
   "outputs": [],
   "source": [
    "n.faceGrad.constrain(0.  , where=mesh.facesLeft)\n",
    "n.faceGrad.constrain(0.  , where=mesh.facesRight)\n",
    "v.constrain(0.           , where=mesh.facesLeft)\n",
    "v.faceGrad.constrain(0.           , where=mesh.facesRight)\n",
    "\n",
    "v.setValue(1.5*x/t)\n",
    "n.setValue(n0*np.sqrt(3.*sc.m_p/(8.*t**3*np.pi*tau))*fp.numerix.exp(-3.*sc.m_p*x**2/(8.*t**3*tau))+n0*1e-20)"
   ]
  },
  {
   "cell_type": "markdown",
   "metadata": {},
   "source": [
    "Initial conditons"
   ]
  },
  {
   "cell_type": "code",
   "execution_count": 196,
   "metadata": {},
   "outputs": [
    {
     "name": "stdout",
     "output_type": "stream",
     "text": [
      "800946046367.6616\n",
      "199345906755.52338\n",
      "282178477.1154484\n",
      "2684340.1791034094\n",
      "34464.7483604537\n",
      "446.3561294316631\n",
      "5.8092923415522195\n",
      "0.10674437212745432\n",
      "0.06795255983578093\n",
      "0.06835800624117558\n",
      "0.06837369950726656\n",
      "0.06837369950726656\n",
      "0.06837369950726656\n",
      "0.06837369950726656\n",
      "0.06837369950726656\n",
      "0.06837369950726656\n",
      "0.06837369950726656\n",
      "0.06837369950726656\n",
      "0.06837369950726656\n",
      "0.06837369950726656\n"
     ]
    }
   ],
   "source": [
    "n.updateOld()\n",
    "v.updateOld()\n",
    "\n",
    "v_face[:] = v.arithmeticFaceValue\n",
    "v_face[..., mesh.exteriorFaces.value] = 0.\n",
    "\n",
    "#First relaxation with tiny timestep\n",
    "res = 1e100\n",
    "for i in range(20):\n",
    "    res = eqn.sweep(dt=dt)\n",
    "    print(res)\n",
    "t += dt"
   ]
  },
  {
   "cell_type": "code",
   "execution_count": 197,
   "metadata": {},
   "outputs": [
    {
     "data": {
      "image/png": "[encoded data removed]",
      "text/plain": [
       "<Figure size 864x288 with 2 Axes>"
      ]
     },
     "metadata": {
      "needs_background": "light"
     },
     "output_type": "display_data"
    }
   ],
   "source": [
    "fig = plt.figure(figsize=(12,4))\n",
    "ax1 =  fig.add_subplot(121)\n",
    "ax2 =  fig.add_subplot(122)\n",
    "\n",
    "x_plot = np.array(mesh.x)\n",
    "p_n,      = ax1.plot(x_plot, n.value, '-', label = '$n_i$')\n",
    "p_v,      = ax2.plot(x_plot, v.value, '-',label = '$v_i$')\n",
    "a_n,      = ax1.plot(x_plot, n.value, '-', label = '$n_i^{an}$')\n",
    "a_v,      = ax2.plot(x_plot, v.value, '-',label = '$v_i^{an}$')\n",
    "\n",
    "ax1.grid()\n",
    "ax2.grid()\n",
    "ax1.legend(framealpha=0.5)\n",
    "ax2.legend(framealpha=0.5)\n",
    "plt.show()"
   ]
  },
  {
   "cell_type": "code",
   "execution_count": 198,
   "metadata": {},
   "outputs": [],
   "source": [
    "def update2(i):\n",
    "    #print 1.*i\n",
    "    update_progress('Progress',1.*i/steps)\n",
    "    global t,tau,T\n",
    "    n.updateOld()\n",
    "    v.updateOld()\n",
    "    T.setValue(t*tau)\n",
    "    res = 1e100\n",
    "    isweep = 0\n",
    "    while res > 1.:\n",
    "        isweep+=1\n",
    "        v_face[:] = v.arithmeticFaceValue\n",
    "        v_face[..., mesh.exteriorFaces.value] = 0.\n",
    "        res = eqn.sweep(dt=dt)    \n",
    "        #print(res)\n",
    "        if isweep > 100:\n",
    "            print(i,'No converge',res)\n",
    "            break\n",
    "    t = t + dt\n",
    "    p_n.set_ydata(n.value)\n",
    "    p_v.set_ydata(v.value)\n",
    "    a_n.set_ydata(n_ana(x.value,t))\n",
    "    a_v.set_ydata(1.5*x/t)\n",
    "    ax1.set_ylim((0,max(n.value)*1.2))\n",
    "    ax2.set_ylim((0,max(n_ana(x.value,t))))"
   ]
  },
  {
   "cell_type": "code",
   "execution_count": 199,
   "metadata": {},
   "outputs": [],
   "source": [
    "animation2 = FuncAnimation(fig, update2, frames=steps, repeat=False)"
   ]
  },
  {
   "cell_type": "code",
   "execution_count": null,
   "metadata": {
    "tags": []
   },
   "outputs": [
    {
     "name": "stdout",
     "output_type": "stream",
     "text": [
      "Progress: [########################################################################################------------] 88% "
     ]
    }
   ],
   "source": [
    "animation2"
   ]
  },
  {
   "cell_type": "code",
   "execution_count": 112,
   "metadata": {},
   "outputs": [
    {
     "data": {
      "text/plain": [
       "0.0293326021655493"
      ]
     },
     "execution_count": 112,
     "metadata": {},
     "output_type": "execute_result"
    }
   ],
   "source": [
    "res"
   ]
  }
 ],
 "metadata": {
  "kernelspec": {
   "display_name": "Python 3",
   "language": "python",
   "name": "python3"
  },
  "language_info": {
   "codemirror_mode": {
    "name": "ipython",
    "version": 3
   },
   "file_extension": ".py",
   "mimetype": "text/x-python",
   "name": "python",
   "nbconvert_exporter": "python",
   "pygments_lexer": "ipython3",
   "version": "3.8.8"
  },
  "latex_envs": {
   "LaTeX_envs_menu_present": true,
   "autoclose": false,
   "autocomplete": true,
   "bibliofile": "biblio.bib",
   "cite_by": "apalike",
   "current_citInitial": 1,
   "eqLabelWithNumbers": true,
   "eqNumInitial": 1,
   "hotkeys": {
    "equation": "Ctrl-E",
    "itemize": "Ctrl-I"
   },
   "labels_anchors": false,
   "latex_user_defs": false,
   "report_style_numbering": true,
   "user_envs_cfg": false
  },
  "toc": {
   "base_numbering": 1,
   "nav_menu": {},
   "number_sections": true,
   "sideBar": true,
   "skip_h1_title": false,
   "title_cell": "Table of Contents",
   "title_sidebar": "Contents",
   "toc_cell": false,
   "toc_position": {},
   "toc_section_display": true,
   "toc_window_display": false
  }
 },
 "nbformat": 4,
 "nbformat_minor": 4
}
